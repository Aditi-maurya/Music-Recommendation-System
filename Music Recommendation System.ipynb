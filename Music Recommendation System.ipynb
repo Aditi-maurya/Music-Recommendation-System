{
 "cells": [
  {
   "cell_type": "code",
   "execution_count": 1,
   "id": "a2784e7c-3440-4151-a33b-02f8595b6808",
   "metadata": {},
   "outputs": [],
   "source": [
    "import pandas as pd"
   ]
  },
  {
   "cell_type": "code",
   "execution_count": 2,
   "id": "dc42868f-919d-4342-b856-82ef6358a12a",
   "metadata": {},
   "outputs": [],
   "source": [
    "df = pd.read_csv(\"spotify_millsongdata.csv\")"
   ]
  },
  {
   "cell_type": "code",
   "execution_count": 3,
   "id": "1aa2545a-ac40-4638-8560-7a89842da535",
   "metadata": {},
   "outputs": [
    {
     "data": {
      "text/html": [
       "<div>\n",
       "<style scoped>\n",
       "    .dataframe tbody tr th:only-of-type {\n",
       "        vertical-align: middle;\n",
       "    }\n",
       "\n",
       "    .dataframe tbody tr th {\n",
       "        vertical-align: top;\n",
       "    }\n",
       "\n",
       "    .dataframe thead th {\n",
       "        text-align: right;\n",
       "    }\n",
       "</style>\n",
       "<table border=\"1\" class=\"dataframe\">\n",
       "  <thead>\n",
       "    <tr style=\"text-align: right;\">\n",
       "      <th></th>\n",
       "      <th>artist</th>\n",
       "      <th>song</th>\n",
       "      <th>link</th>\n",
       "      <th>text</th>\n",
       "    </tr>\n",
       "  </thead>\n",
       "  <tbody>\n",
       "    <tr>\n",
       "      <th>0</th>\n",
       "      <td>ABBA</td>\n",
       "      <td>Ahe's My Kind Of Girl</td>\n",
       "      <td>/a/abba/ahes+my+kind+of+girl_20598417.html</td>\n",
       "      <td>Look at her face, it's a wonderful face  \\r\\nA...</td>\n",
       "    </tr>\n",
       "    <tr>\n",
       "      <th>1</th>\n",
       "      <td>ABBA</td>\n",
       "      <td>Andante, Andante</td>\n",
       "      <td>/a/abba/andante+andante_20002708.html</td>\n",
       "      <td>Take it easy with me, please  \\r\\nTouch me gen...</td>\n",
       "    </tr>\n",
       "    <tr>\n",
       "      <th>2</th>\n",
       "      <td>ABBA</td>\n",
       "      <td>As Good As New</td>\n",
       "      <td>/a/abba/as+good+as+new_20003033.html</td>\n",
       "      <td>I'll never know why I had to go  \\r\\nWhy I had...</td>\n",
       "    </tr>\n",
       "    <tr>\n",
       "      <th>3</th>\n",
       "      <td>ABBA</td>\n",
       "      <td>Bang</td>\n",
       "      <td>/a/abba/bang_20598415.html</td>\n",
       "      <td>Making somebody happy is a question of give an...</td>\n",
       "    </tr>\n",
       "    <tr>\n",
       "      <th>4</th>\n",
       "      <td>ABBA</td>\n",
       "      <td>Bang-A-Boomerang</td>\n",
       "      <td>/a/abba/bang+a+boomerang_20002668.html</td>\n",
       "      <td>Making somebody happy is a question of give an...</td>\n",
       "    </tr>\n",
       "  </tbody>\n",
       "</table>\n",
       "</div>"
      ],
      "text/plain": [
       "  artist                   song                                        link  \\\n",
       "0   ABBA  Ahe's My Kind Of Girl  /a/abba/ahes+my+kind+of+girl_20598417.html   \n",
       "1   ABBA       Andante, Andante       /a/abba/andante+andante_20002708.html   \n",
       "2   ABBA         As Good As New        /a/abba/as+good+as+new_20003033.html   \n",
       "3   ABBA                   Bang                  /a/abba/bang_20598415.html   \n",
       "4   ABBA       Bang-A-Boomerang      /a/abba/bang+a+boomerang_20002668.html   \n",
       "\n",
       "                                                text  \n",
       "0  Look at her face, it's a wonderful face  \\r\\nA...  \n",
       "1  Take it easy with me, please  \\r\\nTouch me gen...  \n",
       "2  I'll never know why I had to go  \\r\\nWhy I had...  \n",
       "3  Making somebody happy is a question of give an...  \n",
       "4  Making somebody happy is a question of give an...  "
      ]
     },
     "execution_count": 3,
     "metadata": {},
     "output_type": "execute_result"
    }
   ],
   "source": [
    "df.head(5)"
   ]
  },
  {
   "cell_type": "code",
   "execution_count": 4,
   "id": "01cb5a26-6837-4cb5-a1a3-290f14c91f50",
   "metadata": {},
   "outputs": [
    {
     "data": {
      "text/html": [
       "<div>\n",
       "<style scoped>\n",
       "    .dataframe tbody tr th:only-of-type {\n",
       "        vertical-align: middle;\n",
       "    }\n",
       "\n",
       "    .dataframe tbody tr th {\n",
       "        vertical-align: top;\n",
       "    }\n",
       "\n",
       "    .dataframe thead th {\n",
       "        text-align: right;\n",
       "    }\n",
       "</style>\n",
       "<table border=\"1\" class=\"dataframe\">\n",
       "  <thead>\n",
       "    <tr style=\"text-align: right;\">\n",
       "      <th></th>\n",
       "      <th>artist</th>\n",
       "      <th>song</th>\n",
       "      <th>link</th>\n",
       "      <th>text</th>\n",
       "    </tr>\n",
       "  </thead>\n",
       "  <tbody>\n",
       "    <tr>\n",
       "      <th>57645</th>\n",
       "      <td>Ziggy Marley</td>\n",
       "      <td>Good Old Days</td>\n",
       "      <td>/z/ziggy+marley/good+old+days_10198588.html</td>\n",
       "      <td>Irie days come on play  \\r\\nLet the angels fly...</td>\n",
       "    </tr>\n",
       "    <tr>\n",
       "      <th>57646</th>\n",
       "      <td>Ziggy Marley</td>\n",
       "      <td>Hand To Mouth</td>\n",
       "      <td>/z/ziggy+marley/hand+to+mouth_20531167.html</td>\n",
       "      <td>Power to the workers  \\r\\nMore power  \\r\\nPowe...</td>\n",
       "    </tr>\n",
       "    <tr>\n",
       "      <th>57647</th>\n",
       "      <td>Zwan</td>\n",
       "      <td>Come With Me</td>\n",
       "      <td>/z/zwan/come+with+me_20148981.html</td>\n",
       "      <td>all you need  \\r\\nis something i'll believe  \\...</td>\n",
       "    </tr>\n",
       "    <tr>\n",
       "      <th>57648</th>\n",
       "      <td>Zwan</td>\n",
       "      <td>Desire</td>\n",
       "      <td>/z/zwan/desire_20148986.html</td>\n",
       "      <td>northern star  \\r\\nam i frightened  \\r\\nwhere ...</td>\n",
       "    </tr>\n",
       "    <tr>\n",
       "      <th>57649</th>\n",
       "      <td>Zwan</td>\n",
       "      <td>Heartsong</td>\n",
       "      <td>/z/zwan/heartsong_20148991.html</td>\n",
       "      <td>come in  \\r\\nmake yourself at home  \\r\\ni'm a ...</td>\n",
       "    </tr>\n",
       "  </tbody>\n",
       "</table>\n",
       "</div>"
      ],
      "text/plain": [
       "             artist           song  \\\n",
       "57645  Ziggy Marley  Good Old Days   \n",
       "57646  Ziggy Marley  Hand To Mouth   \n",
       "57647          Zwan   Come With Me   \n",
       "57648          Zwan         Desire   \n",
       "57649          Zwan      Heartsong   \n",
       "\n",
       "                                              link  \\\n",
       "57645  /z/ziggy+marley/good+old+days_10198588.html   \n",
       "57646  /z/ziggy+marley/hand+to+mouth_20531167.html   \n",
       "57647           /z/zwan/come+with+me_20148981.html   \n",
       "57648                 /z/zwan/desire_20148986.html   \n",
       "57649              /z/zwan/heartsong_20148991.html   \n",
       "\n",
       "                                                    text  \n",
       "57645  Irie days come on play  \\r\\nLet the angels fly...  \n",
       "57646  Power to the workers  \\r\\nMore power  \\r\\nPowe...  \n",
       "57647  all you need  \\r\\nis something i'll believe  \\...  \n",
       "57648  northern star  \\r\\nam i frightened  \\r\\nwhere ...  \n",
       "57649  come in  \\r\\nmake yourself at home  \\r\\ni'm a ...  "
      ]
     },
     "execution_count": 4,
     "metadata": {},
     "output_type": "execute_result"
    }
   ],
   "source": [
    "df.tail(5)"
   ]
  },
  {
   "cell_type": "code",
   "execution_count": 5,
   "id": "4fb4922a-6de1-4fc0-af0f-2274a18c73d5",
   "metadata": {},
   "outputs": [
    {
     "data": {
      "text/plain": [
       "(57650, 4)"
      ]
     },
     "execution_count": 5,
     "metadata": {},
     "output_type": "execute_result"
    }
   ],
   "source": [
    "df.shape"
   ]
  },
  {
   "cell_type": "code",
   "execution_count": 6,
   "id": "d40284ce-fcba-4bf6-90db-323eefcde4c5",
   "metadata": {},
   "outputs": [
    {
     "data": {
      "text/plain": [
       "artist    0\n",
       "song      0\n",
       "link      0\n",
       "text      0\n",
       "dtype: int64"
      ]
     },
     "execution_count": 6,
     "metadata": {},
     "output_type": "execute_result"
    }
   ],
   "source": [
    "df.isnull().sum()"
   ]
  },
  {
   "cell_type": "code",
   "execution_count": 7,
   "id": "80759646-5b09-4ff5-9ac0-6423b101836e",
   "metadata": {},
   "outputs": [],
   "source": [
    "df =df.sample(5000).drop('link', axis=1).reset_index(drop=True)"
   ]
  },
  {
   "cell_type": "code",
   "execution_count": 8,
   "id": "744d2cdf-f76e-4146-b18f-a77ed5dc756d",
   "metadata": {},
   "outputs": [
    {
     "data": {
      "text/html": [
       "<div>\n",
       "<style scoped>\n",
       "    .dataframe tbody tr th:only-of-type {\n",
       "        vertical-align: middle;\n",
       "    }\n",
       "\n",
       "    .dataframe tbody tr th {\n",
       "        vertical-align: top;\n",
       "    }\n",
       "\n",
       "    .dataframe thead th {\n",
       "        text-align: right;\n",
       "    }\n",
       "</style>\n",
       "<table border=\"1\" class=\"dataframe\">\n",
       "  <thead>\n",
       "    <tr style=\"text-align: right;\">\n",
       "      <th></th>\n",
       "      <th>artist</th>\n",
       "      <th>song</th>\n",
       "      <th>text</th>\n",
       "    </tr>\n",
       "  </thead>\n",
       "  <tbody>\n",
       "    <tr>\n",
       "      <th>0</th>\n",
       "      <td>Kim Wilde</td>\n",
       "      <td>Staying With My Baby</td>\n",
       "      <td>Written by ricky wilde  \\r\\n  \\r\\n(I'm gonna s...</td>\n",
       "    </tr>\n",
       "    <tr>\n",
       "      <th>1</th>\n",
       "      <td>Yazoo</td>\n",
       "      <td>In My Room</td>\n",
       "      <td>I stand alone and watch the clock  \\r\\nI only ...</td>\n",
       "    </tr>\n",
       "    <tr>\n",
       "      <th>2</th>\n",
       "      <td>Backstreet Boys</td>\n",
       "      <td>Don't Disturb This Groove</td>\n",
       "      <td>Ooh that sounds good, why don't you turn that ...</td>\n",
       "    </tr>\n",
       "    <tr>\n",
       "      <th>3</th>\n",
       "      <td>Neil Sedaka</td>\n",
       "      <td>What A Surprise</td>\n",
       "      <td>Do do do do do do do do, what a surprise  \\r\\n...</td>\n",
       "    </tr>\n",
       "    <tr>\n",
       "      <th>4</th>\n",
       "      <td>Clash</td>\n",
       "      <td>Revolution Rock</td>\n",
       "      <td>Revolution rock, it is a brand new rock  \\r\\nA...</td>\n",
       "    </tr>\n",
       "    <tr>\n",
       "      <th>5</th>\n",
       "      <td>Zebra</td>\n",
       "      <td>Don't Walk Away</td>\n",
       "      <td>I don't know why you keep lying  \\r\\nabout you...</td>\n",
       "    </tr>\n",
       "    <tr>\n",
       "      <th>6</th>\n",
       "      <td>The Weeknd</td>\n",
       "      <td>Earned It</td>\n",
       "      <td>[Hook]  \\r\\nI'm so used to being used  \\r\\nSo ...</td>\n",
       "    </tr>\n",
       "    <tr>\n",
       "      <th>7</th>\n",
       "      <td>The Killers</td>\n",
       "      <td>Smile Like You Mean It</td>\n",
       "      <td>Save some face, you know you've only got one  ...</td>\n",
       "    </tr>\n",
       "    <tr>\n",
       "      <th>8</th>\n",
       "      <td>Frankie Goes To Hollywood</td>\n",
       "      <td>For Heaven's Sake</td>\n",
       "      <td>Leave them behind, those clouds of trouble  \\r...</td>\n",
       "    </tr>\n",
       "    <tr>\n",
       "      <th>9</th>\n",
       "      <td>Eric Clapton</td>\n",
       "      <td>Cryin'</td>\n",
       "      <td>[Chorus:]  \\r\\nShe is cryin', she is cryin'.  ...</td>\n",
       "    </tr>\n",
       "  </tbody>\n",
       "</table>\n",
       "</div>"
      ],
      "text/plain": [
       "                      artist                       song  \\\n",
       "0                  Kim Wilde       Staying With My Baby   \n",
       "1                      Yazoo                 In My Room   \n",
       "2            Backstreet Boys  Don't Disturb This Groove   \n",
       "3                Neil Sedaka            What A Surprise   \n",
       "4                      Clash            Revolution Rock   \n",
       "5                      Zebra            Don't Walk Away   \n",
       "6                 The Weeknd                  Earned It   \n",
       "7                The Killers     Smile Like You Mean It   \n",
       "8  Frankie Goes To Hollywood          For Heaven's Sake   \n",
       "9               Eric Clapton                     Cryin'   \n",
       "\n",
       "                                                text  \n",
       "0  Written by ricky wilde  \\r\\n  \\r\\n(I'm gonna s...  \n",
       "1  I stand alone and watch the clock  \\r\\nI only ...  \n",
       "2  Ooh that sounds good, why don't you turn that ...  \n",
       "3  Do do do do do do do do, what a surprise  \\r\\n...  \n",
       "4  Revolution rock, it is a brand new rock  \\r\\nA...  \n",
       "5  I don't know why you keep lying  \\r\\nabout you...  \n",
       "6  [Hook]  \\r\\nI'm so used to being used  \\r\\nSo ...  \n",
       "7  Save some face, you know you've only got one  ...  \n",
       "8  Leave them behind, those clouds of trouble  \\r...  \n",
       "9  [Chorus:]  \\r\\nShe is cryin', she is cryin'.  ...  "
      ]
     },
     "execution_count": 8,
     "metadata": {},
     "output_type": "execute_result"
    }
   ],
   "source": [
    "df.head(10)"
   ]
  },
  {
   "cell_type": "code",
   "execution_count": 9,
   "id": "1f811d81-304f-4d89-9c51-a0611b01b273",
   "metadata": {},
   "outputs": [
    {
     "data": {
      "text/plain": [
       "\"Written by ricky wilde  \\r\\n  \\r\\n(I'm gonna stay... (I'm gonna stay...))  \\r\\n  \\r\\nThe pain inside  \\r\\nWhen you think you love another  \\r\\nBut can't decide which way to go  \\r\\nAnd you're searching for a reason to leave his side  \\r\\nIn time you'll see  \\r\\nIt has to be this way  \\r\\nAnd though it hurts to say  \\r\\nI'm gonna be staying with my baby  \\r\\n  \\r\\n(I'm gonna stay... (I'm gonna stay...))  \\r\\nI know he's good for me  \\r\\nI can see that he's feeling down  \\r\\n(I'm gonna stay... (I'm gonna stay...))  \\r\\nBut I know he cares for me  \\r\\nAnd in time he will come around  \\r\\nSo dry your eyes, before you turn away  \\r\\nYou must know that I'll always love you  \\r\\nBut now, I'm staying with my baby  \\r\\n  \\r\\nYou used to say  \\r\\nI should maybe take it further  \\r\\nAnd leave one day  \\r\\nMy family - but I'm responsible for them  \\r\\nThey depend on me  \\r\\nSo now you see, our love is history  \\r\\nI'm sad it has to end  \\r\\nBut I'm gonna be staying with my baby  \\r\\n  \\r\\n(I'm gonna stay... (I'm gonna stay...))  \\r\\nI know he's good for me  \\r\\nI can see that he's feeling down  \\r\\n(I'm gonna stay... (I'm gonna stay...))  \\r\\nBut I know he cares for me  \\r\\nAnd in time he will come around  \\r\\nSo dry your eyes, before you turn away  \\r\\nYou must know that I'll always love you  \\r\\nBut now, I'm staying with my baby  \\r\\n(I'm staying with my baby... yes I am)  \\r\\n  \\r\\nPlease understand  \\r\\nHe's just a desperate man  \\r\\nWho's doing all he can  \\r\\nSo I'm going back  \\r\\n  \\r\\n(I'm gonna stay... (I'm gonna stay...))  \\r\\nI know he's good for me  \\r\\nI can see that he's feeling down  \\r\\n(I'm gonna stay... (I'm gonna stay...))  \\r\\nBut I know he cares for me  \\r\\nAnd in time he will come around  \\r\\n(I'm gonna stay... (I'm gonna stay...))  \\r\\nI'm gonna stay  \\r\\n(I'm gonna stay... (I'm gonna stay...))  \\r\\nI'm gonna stay\\r\\n\\r\\n\""
      ]
     },
     "execution_count": 9,
     "metadata": {},
     "output_type": "execute_result"
    }
   ],
   "source": [
    "df['text'][0]"
   ]
  },
  {
   "cell_type": "code",
   "execution_count": 10,
   "id": "bcbc8073-ef06-445c-9649-301a48d3a22d",
   "metadata": {},
   "outputs": [],
   "source": [
    "df['text'] = df['text'].str.lower().replace(r'^\\w\\s', ' ').replace(r'\\n', ' ', regex = True)"
   ]
  },
  {
   "cell_type": "code",
   "execution_count": 11,
   "id": "cb1ad9be-a434-4c9b-8308-9b0847915bdb",
   "metadata": {},
   "outputs": [],
   "source": [
    "import nltk\n",
    "from nltk.stem.porter import PorterStemmer\n",
    "stemmer = PorterStemmer()\n",
    "\n",
    "def tokenization(txt):\n",
    "    tokens = nltk.word_tokenize(txt)\n",
    "    stemming = [stemmer.stem(w) for w in tokens]\n",
    "    return \" \".join(stemming)"
   ]
  },
  {
   "cell_type": "code",
   "execution_count": 12,
   "id": "1123cb29-8e0d-48e8-9bd3-18ca6a5156a6",
   "metadata": {},
   "outputs": [],
   "source": [
    "df['text'] = df['text'].apply(lambda x: tokenization(x))"
   ]
  },
  {
   "cell_type": "code",
   "execution_count": 13,
   "id": "761122ae-7a4c-4d0f-95eb-51cfc22bcd9a",
   "metadata": {},
   "outputs": [],
   "source": [
    "from sklearn.feature_extraction.text import TfidfVectorizer\n",
    "from sklearn.metrics.pairwise import cosine_similarity"
   ]
  },
  {
   "cell_type": "code",
   "execution_count": 14,
   "id": "6bfd74ab-b4cd-4d73-bdff-fbbdedda74a8",
   "metadata": {},
   "outputs": [],
   "source": [
    "tfidvector = TfidfVectorizer(analyzer='word',stop_words='english')\n",
    "matrix = tfidvector.fit_transform(df['text'])\n",
    "similarity = cosine_similarity(matrix)"
   ]
  },
  {
   "cell_type": "code",
   "execution_count": 15,
   "id": "d9911aab-0fbd-46e6-a7b5-aa762ae0cf0b",
   "metadata": {},
   "outputs": [
    {
     "data": {
      "text/plain": [
       "array([1.        , 0.0057605 , 0.03824658, ..., 0.17791461, 0.12710417,\n",
       "       0.0256915 ])"
      ]
     },
     "execution_count": 15,
     "metadata": {},
     "output_type": "execute_result"
    }
   ],
   "source": [
    "similarity[0]"
   ]
  },
  {
   "cell_type": "code",
   "execution_count": 22,
   "id": "1ba6db74-543b-4c29-a2ee-17568bc99202",
   "metadata": {},
   "outputs": [
    {
     "data": {
      "text/html": [
       "<div>\n",
       "<style scoped>\n",
       "    .dataframe tbody tr th:only-of-type {\n",
       "        vertical-align: middle;\n",
       "    }\n",
       "\n",
       "    .dataframe tbody tr th {\n",
       "        vertical-align: top;\n",
       "    }\n",
       "\n",
       "    .dataframe thead th {\n",
       "        text-align: right;\n",
       "    }\n",
       "</style>\n",
       "<table border=\"1\" class=\"dataframe\">\n",
       "  <thead>\n",
       "    <tr style=\"text-align: right;\">\n",
       "      <th></th>\n",
       "      <th>artist</th>\n",
       "      <th>song</th>\n",
       "      <th>text</th>\n",
       "    </tr>\n",
       "  </thead>\n",
       "  <tbody>\n",
       "    <tr>\n",
       "      <th>0</th>\n",
       "      <td>Kim Wilde</td>\n",
       "      <td>Staying With My Baby</td>\n",
       "      <td>written by ricki wild ( i 'm gon na stay ... (...</td>\n",
       "    </tr>\n",
       "  </tbody>\n",
       "</table>\n",
       "</div>"
      ],
      "text/plain": [
       "      artist                  song  \\\n",
       "0  Kim Wilde  Staying With My Baby   \n",
       "\n",
       "                                                text  \n",
       "0  written by ricki wild ( i 'm gon na stay ... (...  "
      ]
     },
     "execution_count": 22,
     "metadata": {},
     "output_type": "execute_result"
    }
   ],
   "source": [
    "df[df['song'] == 'Staying With My Baby']"
   ]
  },
  {
   "cell_type": "code",
   "execution_count": 23,
   "id": "eac640ca-1f91-46f1-bd28-fc01aa84afef",
   "metadata": {},
   "outputs": [],
   "source": [
    "def recommendation(song_df):\n",
    "    filtered_df = df[df['song'] == song_df]\n",
    "    if filtered_df.empty:\n",
    "        print(f\"No songs found with the title '{song_df}'\")\n",
    "        return None  # or handle the case appropriately\n",
    "    idx = filtered_df.index[0]\n",
    "    distances = sorted(list(enumerate(similarity[idx])), reverse=True, key=lambda x: x[1])\n",
    "    songs = []\n",
    "    # Continue with your processing\n"
   ]
  },
  {
   "cell_type": "code",
   "execution_count": 24,
   "id": "d19b3835-819a-4871-a896-af600ecebe2b",
   "metadata": {},
   "outputs": [],
   "source": [
    "recommendation('Staying With My Baby')"
   ]
  },
  {
   "cell_type": "code",
   "execution_count": 25,
   "id": "874bd290-4c6d-4673-b7f1-bbd270ca683e",
   "metadata": {},
   "outputs": [],
   "source": [
    "import pickle\n",
    "pickle.dump(similarity,open('similarity.pkl','wb'))\n",
    "pickle.dump(df,open('df.pkl','wb'))"
   ]
  },
  {
   "cell_type": "code",
   "execution_count": null,
   "id": "4a7ac2bb-4278-4424-bac4-a245689108db",
   "metadata": {},
   "outputs": [],
   "source": []
  }
 ],
 "metadata": {
  "kernelspec": {
   "display_name": "Python 3 (ipykernel)",
   "language": "python",
   "name": "python3"
  },
  "language_info": {
   "codemirror_mode": {
    "name": "ipython",
    "version": 3
   },
   "file_extension": ".py",
   "mimetype": "text/x-python",
   "name": "python",
   "nbconvert_exporter": "python",
   "pygments_lexer": "ipython3",
   "version": "3.12.4"
  }
 },
 "nbformat": 4,
 "nbformat_minor": 5
}
